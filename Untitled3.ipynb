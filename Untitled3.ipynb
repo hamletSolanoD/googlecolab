{
  "nbformat": 4,
  "nbformat_minor": 0,
  "metadata": {
    "colab": {
      "provenance": [],
      "collapsed_sections": [],
      "include_colab_link": true
    },
    "kernelspec": {
      "name": "python3",
      "display_name": "Python 3"
    },
    "language_info": {
      "name": "python"
    },
    "accelerator": "GPU",
    "gpuClass": "standard"
  },
  "cells": [
    {
      "cell_type": "markdown",
      "metadata": {
        "id": "view-in-github",
        "colab_type": "text"
      },
      "source": [
        "<a href=\"https://colab.research.google.com/github/hamletSolanoD/googlecolab/blob/master/Untitled3.ipynb\" target=\"_parent\"><img src=\"https://colab.research.google.com/assets/colab-badge.svg\" alt=\"Open In Colab\"/></a>"
      ]
    },
    {
      "cell_type": "code",
      "execution_count": null,
      "metadata": {
        "id": "1CM_A9Y8ioK0"
      },
      "outputs": [],
      "source": [
        "import torch\n",
        "import warnings\n",
        "warnings.filterwarnings('ignore')"
      ]
    },
    {
      "cell_type": "code",
      "source": [
        "\n",
        "uris = [\n",
        "\"/content/Hamburguesas/1629.jpg\",\n",
        "\"/content/hotdog/13557.jpg\",\n",
        "\"/content/pizza/16376.jpg\"\n",
        "]"
      ],
      "metadata": {
        "id": "hMt0n8ubiqHG"
      },
      "execution_count": null,
      "outputs": []
    },
    {
      "cell_type": "code",
      "source": [
        "\n",
        "\n",
        "device = torch.device(\"cuda\") if torch.cuda.is_available() else torch.device(\"cpu\")\n",
        "print(device)\n",
        "resnet50 = torch.load('/content/resnetRetrained.pt')\n",
        "utils = torch.hub.load('NVIDIA/DeepLearningExamples:torchhub', 'nvidia_convnets_processing_utils')\n",
        "\n",
        "resnet50.eval().to(device)\n",
        "\n",
        "\n"
      ],
      "metadata": {
        "id": "nEQvsOBDiuxZ"
      },
      "execution_count": null,
      "outputs": []
    },
    {
      "cell_type": "code",
      "source": [
        "\n",
        "\n",
        "batch = torch.cat(\n",
        "    [utils.prepare_input_from_uri(uri) for uri in uris]\n",
        ").to(device)\n",
        "\n",
        "\n",
        "with torch.no_grad():\n",
        "    output = torch.nn.functional.softmax(resnet50(batch), dim=1)\n",
        "    \n",
        "results = utils.pick_n_best(predictions=output, n=5)\n",
        "\n",
        "for uri, result in zip(uris, results):\n",
        "    print(result)\n",
        "\n"
      ],
      "metadata": {
        "colab": {
          "base_uri": "https://localhost:8080/"
        },
        "id": "EJE57DTViyhy",
        "outputId": "283c04e5-280b-4f77-b48e-53c79bd8460e"
      },
      "execution_count": null,
      "outputs": [
        {
          "output_type": "stream",
          "name": "stdout",
          "text": [
            "sample 0: [('cheeseburger', '76.3%'), ('bagel, beigel', '2.1%'), ('potpie', '1.7%'), ('French loaf', '0.6%'), ('meat loaf, meatloaf', '0.4%')]\n",
            "sample 1: [('hotdog, hot dog, red hot', '81.8%'), ('strawberry', '0.2%'), ('French loaf', '0.1%'), ('pomegranate', '0.1%'), ('screw', '0.1%')]\n",
            "sample 2: [('pizza, pizza pie', '88.2%'), ('bakery, bakeshop, bakehouse', '0.1%'), ('French loaf', '0.1%'), ('frying pan, frypan, skillet', '0.1%'), ('plate', '0.1%')]\n",
            "[('cheeseburger', '76.3%'), ('bagel, beigel', '2.1%'), ('potpie', '1.7%'), ('French loaf', '0.6%'), ('meat loaf, meatloaf', '0.4%')]\n",
            "[('hotdog, hot dog, red hot', '81.8%'), ('strawberry', '0.2%'), ('French loaf', '0.1%'), ('pomegranate', '0.1%'), ('screw', '0.1%')]\n",
            "[('pizza, pizza pie', '88.2%'), ('bakery, bakeshop, bakehouse', '0.1%'), ('French loaf', '0.1%'), ('frying pan, frypan, skillet', '0.1%'), ('plate', '0.1%')]\n"
          ]
        }
      ]
    }
  ]
}